{
 "cells": [
  {
   "cell_type": "code",
   "execution_count": null,
   "id": "496827ff-a577-4514-b2ed-57051ad46c2f",
   "metadata": {},
   "outputs": [],
   "source": []
  },
  {
   "cell_type": "code",
   "execution_count": 1,
   "id": "4436538a-a72d-4ee1-8b40-f7a9477d7abe",
   "metadata": {},
   "outputs": [],
   "source": [
    "%load_ext autoreload\n",
    "%autoreload 2"
   ]
  },
  {
   "cell_type": "code",
   "execution_count": 2,
   "id": "892dabcd-0b34-40a5-9ed6-d4bac06ae12c",
   "metadata": {},
   "outputs": [
    {
     "data": {
      "text/plain": [
       "[None, None]"
      ]
     },
     "execution_count": 2,
     "metadata": {},
     "output_type": "execute_result"
    }
   ],
   "source": [
    "PROJECT_PATH = '/home/swei20/PIML/PIMLgrid/'\n",
    "import sys\n",
    "sys.path.insert(0, PROJECT_PATH)\n",
    "[sys.path.append(i) for i in ['.', '..']]"
   ]
  },
  {
   "cell_type": "code",
   "execution_count": 5,
   "id": "917d5f87-dea8-41d0-b8c6-06a0a8dda6af",
   "metadata": {},
   "outputs": [],
   "source": [
    "import os\n",
    "env_vars = !cat /home/swei20/PIML/PIMLspec/.env\n",
    "for var in env_vars:\n",
    "    key, value = var.split('=')\n",
    "    os.environ[key] = value"
   ]
  },
  {
   "cell_type": "code",
   "execution_count": 6,
   "id": "128001f8-7109-420f-a740-08f8a293cbb2",
   "metadata": {},
   "outputs": [],
   "source": [
    "import numpy as np\n",
    "import copy\n",
    "import matplotlib.pyplot as plt\n"
   ]
  },
  {
   "cell_type": "code",
   "execution_count": 5,
   "id": "b7a8bd5f-fad9-4b0b-bf39-d7fed3734d85",
   "metadata": {},
   "outputs": [],
   "source": [
    "from test.dataloader import TestDataLoader"
   ]
  },
  {
   "cell_type": "code",
   "execution_count": null,
   "id": "cda94837-4cee-48f9-b1d4-ad472985283c",
   "metadata": {},
   "outputs": [],
   "source": []
  },
  {
   "cell_type": "code",
   "execution_count": 79,
   "id": "abc39015-8031-4b26-9cb0-37ff68692fb8",
   "metadata": {},
   "outputs": [],
   "source": [
    "from grid.interface.gateway.gridprocessIF import StellarGridProcessIF"
   ]
  },
  {
   "cell_type": "code",
   "execution_count": 80,
   "id": "f70dcf38-1b7a-4cb0-bced-9da0286eb461",
   "metadata": {},
   "outputs": [],
   "source": [
    "PIF = StellarGridProcessIF()"
   ]
  },
  {
   "cell_type": "code",
   "execution_count": 81,
   "id": "f580c2c9-d068-45a2-8ecf-2e3e6adc12e8",
   "metadata": {},
   "outputs": [],
   "source": [
    "PARAM = {\"box_name\":\"R\"}"
   ]
  },
  {
   "cell_type": "code",
   "execution_count": 82,
   "id": "872562b8-f4e3-4ad1-a1f0-0e773f864f97",
   "metadata": {},
   "outputs": [],
   "source": [
    "PIF.interact(PARAM)"
   ]
  },
  {
   "cell_type": "code",
   "execution_count": 83,
   "id": "037e0c2c-9e1f-4845-86d7-f37ee128c918",
   "metadata": {},
   "outputs": [
    {
     "data": {
      "text/plain": [
       "{'coord': array([[-1.00e+00,  5.50e+03,  2.00e+00, -7.50e-01, -2.50e-01],\n",
       "        [-1.00e+00,  5.50e+03,  2.00e+00, -7.50e-01,  0.00e+00],\n",
       "        [-1.00e+00,  5.50e+03,  2.00e+00, -7.50e-01,  2.50e-01],\n",
       "        ...,\n",
       "        [ 0.00e+00,  6.75e+03,  3.50e+00,  5.00e-01,  0.00e+00],\n",
       "        [ 0.00e+00,  6.75e+03,  3.50e+00,  5.00e-01,  2.50e-01],\n",
       "        [ 0.00e+00,  6.75e+03,  3.50e+00,  5.00e-01,  5.00e-01]]),\n",
       " 'value': array([[ 452360.,  534990.,  622660., ...,  449380.,  446190.,  441060.],\n",
       "        [ 448560.,  526930.,  621180., ...,  449760.,  445200.,  438250.],\n",
       "        [ 446380.,  520800.,  621030., ...,  450240.,  444140.,  435130.],\n",
       "        ...,\n",
       "        [2231600., 2507600., 2782400., ...,  651560.,  638910.,  627310.],\n",
       "        [2225600., 2477200., 2787900., ...,  653220.,  637980.,  623120.],\n",
       "        [2231400., 2459300., 2804900., ...,  655510.,  637420.,  619060.]]),\n",
       " 'unit_coord': array([[0.        , 0.        , 0.        , 0.        , 0.        ],\n",
       "        [0.        , 0.        , 0.        , 0.        , 0.33333333],\n",
       "        [0.        , 0.        , 0.        , 0.        , 0.66666667],\n",
       "        ...,\n",
       "        [1.        , 1.        , 1.        , 1.        , 0.33333333],\n",
       "        [1.        , 1.        , 1.        , 1.        , 0.66666667],\n",
       "        [1.        , 1.        , 1.        , 1.        , 1.        ]]),\n",
       " 'PhyShort': ['M', 'T', 'G', 'C', 'A'],\n",
       " 'dfcoord':         M       T    G     C     A\n",
       " 0    -1.0  5500.0  2.0 -0.75 -0.25\n",
       " 1    -1.0  5500.0  2.0 -0.75  0.00\n",
       " 2    -1.0  5500.0  2.0 -0.75  0.25\n",
       " 3    -1.0  5500.0  2.0 -0.75  0.50\n",
       " 4    -1.0  5500.0  2.0 -0.50 -0.25\n",
       " ...   ...     ...  ...   ...   ...\n",
       " 2875  0.0  6750.0  3.5  0.25  0.50\n",
       " 2876  0.0  6750.0  3.5  0.50 -0.25\n",
       " 2877  0.0  6750.0  3.5  0.50  0.00\n",
       " 2878  0.0  6750.0  3.5  0.50  0.25\n",
       " 2879  0.0  6750.0  3.5  0.50  0.50\n",
       " \n",
       " [2880 rows x 5 columns],\n",
       " 'unify': <function base.center.crust.baseoperation.BuildScalerOperation.get_scalers.<locals>.<lambda>(x)>,\n",
       " 'deunify': <function base.center.crust.baseoperation.BuildScalerOperation.get_scalers.<locals>.<lambda>(x)>,\n",
       " 'box': {'name': 'R',\n",
       "  'min': array([-1.0e+00,  5.5e+03,  2.0e+00, -7.5e-01, -2.5e-01]),\n",
       "  'max': array([0.00e+00, 6.75e+03, 3.50e+00, 5.00e-01, 5.00e-01]),\n",
       "  'rng': array([1.00e+00, 1.25e+03, 1.50e+00, 1.25e+00, 7.50e-01]),\n",
       "  'num': array([4., 5., 3., 5., 3.]),\n",
       "  'mid': array([-5.0e-01,  6.0e+03,  2.5e+00, -2.5e-01,  0.0e+00])},\n",
       " 'interpolator': <function grid.center.crust.model.interpmodel.RBFInterpBuilderGridModel.apply_on_Grid.<locals>.unit_coord_interpolator(eval_coord, scale=True)>,\n",
       " 'builder': <base.center.core.baseinterpbuilder.RBFInterpBuilder at 0x7f8b6fa77fa0>}"
      ]
     },
     "execution_count": 83,
     "metadata": {},
     "output_type": "execute_result"
    }
   ],
   "source": [
    "PIF.Object.__dict__"
   ]
  },
  {
   "cell_type": "code",
   "execution_count": 27,
   "id": "0e1ee781-c02a-4a7d-b5e3-0bbfa0a61e2c",
   "metadata": {},
   "outputs": [],
   "source": [
    "        PHYTICK = [0.25, 250, 0.5, 0.25, 0.25]\n"
   ]
  },
  {
   "cell_type": "code",
   "execution_count": 78,
   "id": "a34e18bf-7fe9-4f23-83e8-de140a5203c2",
   "metadata": {},
   "outputs": [
    {
     "data": {
      "text/plain": [
       "array([-1.0e+00,  5.5e+03,  2.0e+00, -7.5e-01, -2.5e-01])"
      ]
     },
     "execution_count": 78,
     "metadata": {},
     "output_type": "execute_result"
    }
   ],
   "source": [
    "Object.deunify([0,0,0,0,0])"
   ]
  },
  {
   "cell_type": "code",
   "execution_count": 77,
   "id": "f2b4a714-4869-4f6f-934b-4fdbfa08929b",
   "metadata": {},
   "outputs": [
    {
     "data": {
      "text/plain": [
       "array([[451572.60841036, 536152.14444375, 625241.00004315, ...,\n",
       "        449337.10055457, 445996.63966845, 440864.33570299]])"
      ]
     },
     "execution_count": 77,
     "metadata": {},
     "output_type": "execute_result"
    }
   ],
   "source": [
    "Object.interpolator(np.array([[0,0,0,0,0]]), scale=False)"
   ]
  },
  {
   "cell_type": "code",
   "execution_count": 74,
   "id": "bb217d3a-70a7-43e4-a07b-f01e6b9a2004",
   "metadata": {},
   "outputs": [
    {
     "data": {
      "text/plain": [
       "array([[451572.60841036, 536152.14444375, 625241.00004315, ...,\n",
       "        449337.10055457, 445996.63966845, 440864.33570299]])"
      ]
     },
     "execution_count": 74,
     "metadata": {},
     "output_type": "execute_result"
    }
   ],
   "source": [
    "Object.builder.base_interpolator([[0,0,0,0,0]])"
   ]
  },
  {
   "cell_type": "code",
   "execution_count": 28,
   "id": "85b50e8b-d0fe-4c4c-9169-0fd2b310e065",
   "metadata": {},
   "outputs": [],
   "source": [
    "def eval_interpolator(Object, axis = 1):\n"
   ]
  },
  {
   "cell_type": "code",
   "execution_count": 85,
   "id": "b4b1aa03-b99f-46ac-8f6d-ee266940ccb0",
   "metadata": {},
   "outputs": [],
   "source": [
    "Object = PIF.Object\n",
    "axis=1"
   ]
  },
  {
   "cell_type": "code",
   "execution_count": 71,
   "id": "a6330a83-9add-416d-85c0-8b00f787faff",
   "metadata": {},
   "outputs": [
    {
     "data": {
      "text/plain": [
       "array([-1.09029559e+09, -8.53917102e+08, -3.24234721e+08, ...,\n",
       "       -2.78722383e+07, -4.91502171e+07, -2.71463132e+07])"
      ]
     },
     "execution_count": 71,
     "metadata": {},
     "output_type": "execute_result"
    }
   ],
   "source": [
    "Object.interpolator([0,0,0,0,0])"
   ]
  },
  {
   "cell_type": "code",
   "execution_count": null,
   "id": "dda3d568-32ab-4a00-b89a-5c3de6c630a6",
   "metadata": {},
   "outputs": [],
   "source": []
  },
  {
   "cell_type": "code",
   "execution_count": 95,
   "id": "d0d5ac5e-2a22-40b6-9a5a-c4f735bf53c2",
   "metadata": {},
   "outputs": [],
   "source": [
    "x=5000"
   ]
  },
  {
   "cell_type": "code",
   "execution_count": 96,
   "id": "2d1908df-a0d1-41ee-bf5b-f473293e7820",
   "metadata": {},
   "outputs": [
    {
     "data": {
      "text/plain": [
       "<matplotlib.legend.Legend at 0x7f8b6f713400>"
      ]
     },
     "execution_count": 96,
     "metadata": {},
     "output_type": "execute_result"
    },
    {
     "data": {
      "image/png": "[encoded data removed]",
      "text/plain": [
       "<Figure size 432x288 with 1 Axes>"
      ]
     },
     "metadata": {
      "needs_background": "light"
     },
     "output_type": "display_data"
    }
   ],
   "source": [
    "pmt0 = Object.box[\"mid\"]\n",
    "pmt2 = np.copy(pmt0)\n",
    "pmt2[axis] += PHYTICK[axis]\n",
    "pmt1 = 0.5 * (pmt0 + pmt2)\n",
    "\n",
    "flux0 = Object.get_coord_value(pmt0)\n",
    "flux2 = Object.get_coord_value(pmt2)\n",
    "flux1 = Object.interpolator(pmt1)\n",
    "\n",
    "wave = np.arange(len(flux0))\n",
    "plt.plot(wave, flux0, label= pmt0, c='b')\n",
    "plt.plot(wave, flux1, label = pmt1, c='r')\n",
    "plt.plot(wave, flux2, label = pmt2, c='cyan')\n",
    "plt.xlim(x, x+2204)\n",
    "plt.legend()"
   ]
  },
  {
   "cell_type": "code",
   "execution_count": 92,
   "id": "9242ef05-87fa-4bb7-8cbf-a0ff4ff81189",
   "metadata": {},
   "outputs": [
    {
     "data": {
      "text/plain": [
       "array([7101, 8851])"
      ]
     },
     "execution_count": 92,
     "metadata": {},
     "output_type": "execute_result"
    }
   ],
   "source": [
    "np.digitize([7100,8850], wave)"
   ]
  },
  {
   "cell_type": "code",
   "execution_count": 61,
   "id": "8f40c8bd-87a9-4794-b55a-10ab81611c8b",
   "metadata": {},
   "outputs": [
    {
     "data": {
      "text/plain": [
       "array([ 887990., 1037700., 1196700., ...,  531260.,  523700.,  512920.])"
      ]
     },
     "execution_count": 61,
     "metadata": {},
     "output_type": "execute_result"
    }
   ],
   "source": [
    "flux0"
   ]
  },
  {
   "cell_type": "code",
   "execution_count": 36,
   "id": "e33863a3-3f95-47d7-b807-5a745df85943",
   "metadata": {},
   "outputs": [
    {
     "data": {
      "text/plain": [
       "<matplotlib.legend.Legend at 0x7f8b6fccddf0>"
      ]
     },
     "execution_count": 36,
     "metadata": {},
     "output_type": "execute_result"
    },
    {
     "data": {
      "image/png": "[encoded data removed]",
      "text/plain": [
       "<Figure size 432x288 with 1 Axes>"
      ]
     },
     "metadata": {
      "needs_background": "light"
     },
     "output_type": "display_data"
    }
   ],
   "source": [
    "pmt0 = Object.box[\"mid\"]\n",
    "pmt2 = np.copy(pmt0)\n",
    "pmt2[axis] += PHYTICK[axis]\n",
    "pmt1 = 0.5 * (pmt0 + pmt2)\n",
    "\n",
    "flux0 = Object.get_coord_value(pmt0)\n",
    "flux2 = Object.get_coord_value(pmt2)\n",
    "flux1 = Object.interpolator(pmt1)\n",
    "\n",
    "wave = np.arange(len(flux0))\n",
    "plt.plot(wave, flux0, label= pmt0, c='b')\n",
    "plt.plot(wave, flux1, label = pmt1, c='r')\n",
    "plt.plot(wave, flux2, label = pmt2, c='cyan')\n",
    "plt.legend()"
   ]
  },
  {
   "cell_type": "code",
   "execution_count": 35,
   "id": "f688ce06-9a2a-4e29-8467-4ef1b7cfd19c",
   "metadata": {},
   "outputs": [
    {
     "data": {
      "text/plain": [
       "(220,)"
      ]
     },
     "execution_count": 35,
     "metadata": {},
     "output_type": "execute_result"
    }
   ],
   "source": [
    "flux0.shape"
   ]
  },
  {
   "cell_type": "code",
   "execution_count": 29,
   "id": "6903c759-3e44-4ec5-9c13-0656d84faf53",
   "metadata": {},
   "outputs": [
    {
     "ename": "TypeError",
     "evalue": "arange: scalar arguments expected instead of a tuple.",
     "output_type": "error",
     "traceback": [
      "\u001b[0;31m---------------------------------------------------------------------------\u001b[0m",
      "\u001b[0;31mTypeError\u001b[0m                                 Traceback (most recent call last)",
      "\u001b[0;32m/tmp/ipykernel_3097747/3846311366.py\u001b[0m in \u001b[0;36m<module>\u001b[0;34m\u001b[0m\n\u001b[0;32m----> 1\u001b[0;31m \u001b[0meval_interpolator\u001b[0m\u001b[0;34m(\u001b[0m\u001b[0mPIF\u001b[0m\u001b[0;34m.\u001b[0m\u001b[0mObject\u001b[0m\u001b[0;34m)\u001b[0m\u001b[0;34m\u001b[0m\u001b[0;34m\u001b[0m\u001b[0m\n\u001b[0m",
      "\u001b[0;32m/tmp/ipykernel_3097747/525860145.py\u001b[0m in \u001b[0;36meval_interpolator\u001b[0;34m(Object, axis)\u001b[0m\n\u001b[1;32m      9\u001b[0m     \u001b[0mflux1\u001b[0m \u001b[0;34m=\u001b[0m \u001b[0mObject\u001b[0m\u001b[0;34m.\u001b[0m\u001b[0minterpolator\u001b[0m\u001b[0;34m(\u001b[0m\u001b[0mpmt1\u001b[0m\u001b[0;34m)\u001b[0m\u001b[0;34m\u001b[0m\u001b[0;34m\u001b[0m\u001b[0m\n\u001b[1;32m     10\u001b[0m \u001b[0;34m\u001b[0m\u001b[0m\n\u001b[0;32m---> 11\u001b[0;31m     \u001b[0mwave\u001b[0m \u001b[0;34m=\u001b[0m \u001b[0mnp\u001b[0m\u001b[0;34m.\u001b[0m\u001b[0marange\u001b[0m\u001b[0;34m(\u001b[0m\u001b[0mflux0\u001b[0m\u001b[0;34m.\u001b[0m\u001b[0mshape\u001b[0m\u001b[0;34m)\u001b[0m\u001b[0;34m\u001b[0m\u001b[0;34m\u001b[0m\u001b[0m\n\u001b[0m\u001b[1;32m     12\u001b[0m     \u001b[0mplt\u001b[0m\u001b[0;34m.\u001b[0m\u001b[0mplot\u001b[0m\u001b[0;34m(\u001b[0m\u001b[0mwave\u001b[0m\u001b[0;34m,\u001b[0m \u001b[0mflux0\u001b[0m\u001b[0;34m,\u001b[0m \u001b[0mlabel\u001b[0m\u001b[0;34m=\u001b[0m \u001b[0mpmt0\u001b[0m\u001b[0;34m,\u001b[0m \u001b[0mc\u001b[0m\u001b[0;34m=\u001b[0m\u001b[0;34m'b'\u001b[0m\u001b[0;34m)\u001b[0m\u001b[0;34m\u001b[0m\u001b[0;34m\u001b[0m\u001b[0m\n\u001b[1;32m     13\u001b[0m     \u001b[0mplt\u001b[0m\u001b[0;34m.\u001b[0m\u001b[0mplot\u001b[0m\u001b[0;34m(\u001b[0m\u001b[0mwave\u001b[0m\u001b[0;34m,\u001b[0m \u001b[0mflux1\u001b[0m\u001b[0;34m,\u001b[0m \u001b[0mlabel\u001b[0m \u001b[0;34m=\u001b[0m \u001b[0mpmt1\u001b[0m\u001b[0;34m,\u001b[0m \u001b[0mc\u001b[0m\u001b[0;34m=\u001b[0m\u001b[0;34m'r'\u001b[0m\u001b[0;34m)\u001b[0m\u001b[0;34m\u001b[0m\u001b[0;34m\u001b[0m\u001b[0m\n",
      "\u001b[0;31mTypeError\u001b[0m: arange: scalar arguments expected instead of a tuple."
     ]
    }
   ],
   "source": [
    "eval_interpolator(PIF.Object)"
   ]
  },
  {
   "cell_type": "code",
   "execution_count": null,
   "id": "aef4e7c4-e291-4372-97ad-889d5aaf3ed0",
   "metadata": {},
   "outputs": [],
   "source": []
  }
 ],
 "metadata": {
  "kernelspec": {
   "display_name": "Python 3 [viska-tf28]",
   "language": "python",
   "name": "python3-viska-tf28"
  },
  "language_info": {
   "codemirror_mode": {
    "name": "ipython",
    "version": 3
   },
   "file_extension": ".py",
   "mimetype": "text/x-python",
   "name": "python",
   "nbconvert_exporter": "python",
   "pygments_lexer": "ipython3",
   "version": "3.9.7"
  }
 },
 "nbformat": 4,
 "nbformat_minor": 5
}
