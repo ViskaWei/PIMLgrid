{
 "cells": [
  {
   "cell_type": "code",
   "execution_count": null,
   "id": "496827ff-a577-4514-b2ed-57051ad46c2f",
   "metadata": {},
   "outputs": [],
   "source": []
  },
  {
   "cell_type": "code",
   "execution_count": 1,
   "id": "4436538a-a72d-4ee1-8b40-f7a9477d7abe",
   "metadata": {},
   "outputs": [],
   "source": [
    "%load_ext autoreload\n",
    "%autoreload 2"
   ]
  },
  {
   "cell_type": "code",
   "execution_count": 2,
   "id": "892dabcd-0b34-40a5-9ed6-d4bac06ae12c",
   "metadata": {},
   "outputs": [
    {
     "data": {
      "text/plain": [
       "[None, None]"
      ]
     },
     "execution_count": 2,
     "metadata": {},
     "output_type": "execute_result"
    }
   ],
   "source": [
    "PROJECT_PATH = '/home/swei20/PIML/PIMLgrid/'\n",
    "import sys\n",
    "sys.path.insert(0, PROJECT_PATH)\n",
    "[sys.path.append(i) for i in ['.', '..']]"
   ]
  },
  {
   "cell_type": "code",
   "execution_count": 5,
   "id": "917d5f87-dea8-41d0-b8c6-06a0a8dda6af",
   "metadata": {},
   "outputs": [],
   "source": [
    "import os\n",
    "env_vars = !cat /home/swei20/PIML/PIMLspec/.env\n",
    "for var in env_vars:\n",
    "    key, value = var.split('=')\n",
    "    os.environ[key] = value"
   ]
  },
  {
   "cell_type": "code",
   "execution_count": 6,
   "id": "128001f8-7109-420f-a740-08f8a293cbb2",
   "metadata": {},
   "outputs": [],
   "source": [
    "import numpy as np\n",
    "import copy\n",
    "import matplotlib.pyplot as plt\n"
   ]
  },
  {
   "cell_type": "code",
   "execution_count": 5,
   "id": "b7a8bd5f-fad9-4b0b-bf39-d7fed3734d85",
   "metadata": {},
   "outputs": [],
   "source": [
    "from test.dataloader import TestDataLoader"
   ]
  },
  {
   "cell_type": "code",
   "execution_count": null,
   "id": "cda94837-4cee-48f9-b1d4-ad472985283c",
   "metadata": {},
   "outputs": [],
   "source": []
  },
  {
   "cell_type": "code",
   "execution_count": 17,
   "id": "abc39015-8031-4b26-9cb0-37ff68692fb8",
   "metadata": {},
   "outputs": [],
   "source": [
    "from grid.interface.gateway.gridprocessIF import StellarGridProcessIF"
   ]
  },
  {
   "cell_type": "code",
   "execution_count": 18,
   "id": "f70dcf38-1b7a-4cb0-bced-9da0286eb461",
   "metadata": {},
   "outputs": [],
   "source": [
    "PIF = StellarGridProcessIF()"
   ]
  },
  {
   "cell_type": "code",
   "execution_count": 22,
   "id": "ad1ad574-e5d7-4580-8c36-06a16fb0f7cb",
   "metadata": {},
   "outputs": [],
   "source": [
    "PARAM = { \"OBJECT\": {\"PATH\": \"/home/swei20/PIML/PIMLgrid/test/testdata/grid.h5\"},\n",
    "         \"OP\": {\"box_name\": \"R\"},\n",
    "        \"MODEL\": {\"interp\" : {\"type\": \"RBF\"}}}"
   ]
  },
  {
   "cell_type": "code",
   "execution_count": 23,
   "id": "872562b8-f4e3-4ad1-a1f0-0e773f864f97",
   "metadata": {},
   "outputs": [],
   "source": [
    "PIF.interact(PARAM)"
   ]
  },
  {
   "cell_type": "code",
   "execution_count": 24,
   "id": "037e0c2c-9e1f-4845-86d7-f37ee128c918",
   "metadata": {},
   "outputs": [
    {
     "data": {
      "text/plain": [
       "{'coord': array([[-1.00e+00,  5.50e+03,  2.00e+00, -7.50e-01, -2.50e-01],\n",
       "        [-1.00e+00,  5.50e+03,  2.00e+00, -7.50e-01,  0.00e+00],\n",
       "        [-1.00e+00,  5.50e+03,  2.00e+00, -7.50e-01,  2.50e-01],\n",
       "        ...,\n",
       "        [ 0.00e+00,  6.75e+03,  3.50e+00,  5.00e-01,  0.00e+00],\n",
       "        [ 0.00e+00,  6.75e+03,  3.50e+00,  5.00e-01,  2.50e-01],\n",
       "        [ 0.00e+00,  6.75e+03,  3.50e+00,  5.00e-01,  5.00e-01]]),\n",
       " 'value': array([[14.29471548, 14.28819808, 14.28951243, ..., 13.93229754,\n",
       "         13.94421155, 13.93452839],\n",
       "        [14.29701653, 14.29037734, 14.29173853, ..., 13.93408439,\n",
       "         13.94602114, 13.93632898],\n",
       "        [14.29974988, 14.29293037, 14.29435623, ..., 13.936134  ,\n",
       "         13.94811652, 13.93835631],\n",
       "        ...,\n",
       "        [15.06392408, 15.04008567, 15.01383243, ..., 14.58632686,\n",
       "         14.57220045, 14.55279423],\n",
       "        [15.06983231, 15.04513941, 15.01968634, ..., 14.59130168,\n",
       "         14.57697505, 14.55772406],\n",
       "        [15.07741448, 15.05129884, 15.02723127, ..., 14.59776234,\n",
       "         14.58305995, 14.56411137]]),\n",
       " 'coordx': array([[0., 0., 0., 0., 0.],\n",
       "        [0., 0., 0., 0., 1.],\n",
       "        [0., 0., 0., 0., 2.],\n",
       "        ...,\n",
       "        [4., 5., 3., 5., 1.],\n",
       "        [4., 5., 3., 5., 2.],\n",
       "        [4., 5., 3., 5., 3.]]),\n",
       " 'PhyShort': ['M', 'T', 'G', 'C', 'A'],\n",
       " 'dfcoord':         M       T    G     C     A\n",
       " 0    -1.0  5500.0  2.0 -0.75 -0.25\n",
       " 1    -1.0  5500.0  2.0 -0.75  0.00\n",
       " 2    -1.0  5500.0  2.0 -0.75  0.25\n",
       " 3    -1.0  5500.0  2.0 -0.75  0.50\n",
       " 4    -1.0  5500.0  2.0 -0.50 -0.25\n",
       " ...   ...     ...  ...   ...   ...\n",
       " 2875  0.0  6750.0  3.5  0.25  0.50\n",
       " 2876  0.0  6750.0  3.5  0.50 -0.25\n",
       " 2877  0.0  6750.0  3.5  0.50  0.00\n",
       " 2878  0.0  6750.0  3.5  0.50  0.25\n",
       " 2879  0.0  6750.0  3.5  0.50  0.50\n",
       " \n",
       " [2880 rows x 5 columns],\n",
       " 'box': {'name': 'R',\n",
       "  'min': array([-1.0e+00,  5.5e+03,  2.0e+00, -7.5e-01, -2.5e-01]),\n",
       "  'max': array([0.00e+00, 6.75e+03, 3.50e+00, 5.00e-01, 5.00e-01]),\n",
       "  'rng': array([1.00e+00, 1.25e+03, 1.50e+00, 1.25e+00, 7.50e-01]),\n",
       "  'num': array([4., 5., 3., 5., 3.]),\n",
       "  'mid': array([-5.0e-01,  6.0e+03,  2.5e+00, -2.5e-01,  0.0e+00])},\n",
       " 'coordx_rng': array([4., 5., 3., 5., 3.]),\n",
       " 'coord2idx': <function base.center.crust.baseoperation.BuildScalerOperation.get_scalers.<locals>.<lambda>(x)>,\n",
       " 'idx2coord': <function base.center.crust.baseoperation.BuildScalerOperation.get_scalers.<locals>.<lambda>(x)>,\n",
       " 'interpolator': <function base.center.crust.basemodel.RBFInterpBuilderModel.apply.<locals>.interpolator(eval_coord)>,\n",
       " 'builder': <base.center.core.baseinterpbuilder.RBFInterpBuilder at 0x7f8b6fd8bf70>}"
      ]
     },
     "execution_count": 24,
     "metadata": {},
     "output_type": "execute_result"
    }
   ],
   "source": [
    "PIF.Object.__dict__"
   ]
  },
  {
   "cell_type": "code",
   "execution_count": null,
   "id": "7b683506-8851-4e17-8eae-006068ddd221",
   "metadata": {},
   "outputs": [],
   "source": [
    "PIF.Object."
   ]
  },
  {
   "cell_type": "code",
   "execution_count": 27,
   "id": "0e1ee781-c02a-4a7d-b5e3-0bbfa0a61e2c",
   "metadata": {},
   "outputs": [],
   "source": [
    "        PHYTICK = [0.25, 250, 0.5, 0.25, 0.25]\n"
   ]
  },
  {
   "cell_type": "code",
   "execution_count": 28,
   "id": "85b50e8b-d0fe-4c4c-9169-0fd2b310e065",
   "metadata": {},
   "outputs": [],
   "source": [
    "def eval_interpolator(Object, axis = 1):\n"
   ]
  },
  {
   "cell_type": "code",
   "execution_count": 32,
   "id": "b4b1aa03-b99f-46ac-8f6d-ee266940ccb0",
   "metadata": {},
   "outputs": [],
   "source": [
    "Object = PIF.Object\n",
    "axis=1"
   ]
  },
  {
   "cell_type": "code",
   "execution_count": 36,
   "id": "e33863a3-3f95-47d7-b807-5a745df85943",
   "metadata": {},
   "outputs": [
    {
     "data": {
      "text/plain": [
       "<matplotlib.legend.Legend at 0x7f8b6fccddf0>"
      ]
     },
     "execution_count": 36,
     "metadata": {},
     "output_type": "execute_result"
    },
    {
     "data": {
      "image/png": "[encoded data removed]",
      "text/plain": [
       "<Figure size 432x288 with 1 Axes>"
      ]
     },
     "metadata": {
      "needs_background": "light"
     },
     "output_type": "display_data"
    }
   ],
   "source": [
    "pmt0 = Object.box[\"mid\"]\n",
    "pmt2 = np.copy(pmt0)\n",
    "pmt2[axis] += PHYTICK[axis]\n",
    "pmt1 = 0.5 * (pmt0 + pmt2)\n",
    "\n",
    "flux0 = Object.get_coord_value(pmt0)\n",
    "flux2 = Object.get_coord_value(pmt2)\n",
    "flux1 = Object.interpolator(pmt1)\n",
    "\n",
    "wave = np.arange(len(flux0))\n",
    "plt.plot(wave, flux0, label= pmt0, c='b')\n",
    "plt.plot(wave, flux1, label = pmt1, c='r')\n",
    "plt.plot(wave, flux2, label = pmt2, c='cyan')\n",
    "plt.legend()"
   ]
  },
  {
   "cell_type": "code",
   "execution_count": 35,
   "id": "f688ce06-9a2a-4e29-8467-4ef1b7cfd19c",
   "metadata": {},
   "outputs": [
    {
     "data": {
      "text/plain": [
       "(220,)"
      ]
     },
     "execution_count": 35,
     "metadata": {},
     "output_type": "execute_result"
    }
   ],
   "source": [
    "flux0.shape"
   ]
  },
  {
   "cell_type": "code",
   "execution_count": 29,
   "id": "6903c759-3e44-4ec5-9c13-0656d84faf53",
   "metadata": {},
   "outputs": [
    {
     "ename": "TypeError",
     "evalue": "arange: scalar arguments expected instead of a tuple.",
     "output_type": "error",
     "traceback": [
      "\u001b[0;31m---------------------------------------------------------------------------\u001b[0m",
      "\u001b[0;31mTypeError\u001b[0m                                 Traceback (most recent call last)",
      "\u001b[0;32m/tmp/ipykernel_3097747/3846311366.py\u001b[0m in \u001b[0;36m<module>\u001b[0;34m\u001b[0m\n\u001b[0;32m----> 1\u001b[0;31m \u001b[0meval_interpolator\u001b[0m\u001b[0;34m(\u001b[0m\u001b[0mPIF\u001b[0m\u001b[0;34m.\u001b[0m\u001b[0mObject\u001b[0m\u001b[0;34m)\u001b[0m\u001b[0;34m\u001b[0m\u001b[0;34m\u001b[0m\u001b[0m\n\u001b[0m",
      "\u001b[0;32m/tmp/ipykernel_3097747/525860145.py\u001b[0m in \u001b[0;36meval_interpolator\u001b[0;34m(Object, axis)\u001b[0m\n\u001b[1;32m      9\u001b[0m     \u001b[0mflux1\u001b[0m \u001b[0;34m=\u001b[0m \u001b[0mObject\u001b[0m\u001b[0;34m.\u001b[0m\u001b[0minterpolator\u001b[0m\u001b[0;34m(\u001b[0m\u001b[0mpmt1\u001b[0m\u001b[0;34m)\u001b[0m\u001b[0;34m\u001b[0m\u001b[0;34m\u001b[0m\u001b[0m\n\u001b[1;32m     10\u001b[0m \u001b[0;34m\u001b[0m\u001b[0m\n\u001b[0;32m---> 11\u001b[0;31m     \u001b[0mwave\u001b[0m \u001b[0;34m=\u001b[0m \u001b[0mnp\u001b[0m\u001b[0;34m.\u001b[0m\u001b[0marange\u001b[0m\u001b[0;34m(\u001b[0m\u001b[0mflux0\u001b[0m\u001b[0;34m.\u001b[0m\u001b[0mshape\u001b[0m\u001b[0;34m)\u001b[0m\u001b[0;34m\u001b[0m\u001b[0;34m\u001b[0m\u001b[0m\n\u001b[0m\u001b[1;32m     12\u001b[0m     \u001b[0mplt\u001b[0m\u001b[0;34m.\u001b[0m\u001b[0mplot\u001b[0m\u001b[0;34m(\u001b[0m\u001b[0mwave\u001b[0m\u001b[0;34m,\u001b[0m \u001b[0mflux0\u001b[0m\u001b[0;34m,\u001b[0m \u001b[0mlabel\u001b[0m\u001b[0;34m=\u001b[0m \u001b[0mpmt0\u001b[0m\u001b[0;34m,\u001b[0m \u001b[0mc\u001b[0m\u001b[0;34m=\u001b[0m\u001b[0;34m'b'\u001b[0m\u001b[0;34m)\u001b[0m\u001b[0;34m\u001b[0m\u001b[0;34m\u001b[0m\u001b[0m\n\u001b[1;32m     13\u001b[0m     \u001b[0mplt\u001b[0m\u001b[0;34m.\u001b[0m\u001b[0mplot\u001b[0m\u001b[0;34m(\u001b[0m\u001b[0mwave\u001b[0m\u001b[0;34m,\u001b[0m \u001b[0mflux1\u001b[0m\u001b[0;34m,\u001b[0m \u001b[0mlabel\u001b[0m \u001b[0;34m=\u001b[0m \u001b[0mpmt1\u001b[0m\u001b[0;34m,\u001b[0m \u001b[0mc\u001b[0m\u001b[0;34m=\u001b[0m\u001b[0;34m'r'\u001b[0m\u001b[0;34m)\u001b[0m\u001b[0;34m\u001b[0m\u001b[0;34m\u001b[0m\u001b[0m\n",
      "\u001b[0;31mTypeError\u001b[0m: arange: scalar arguments expected instead of a tuple."
     ]
    }
   ],
   "source": [
    "eval_interpolator(PIF.Object)"
   ]
  },
  {
   "cell_type": "code",
   "execution_count": null,
   "id": "aef4e7c4-e291-4372-97ad-889d5aaf3ed0",
   "metadata": {},
   "outputs": [],
   "source": []
  }
 ],
 "metadata": {
  "kernelspec": {
   "display_name": "Python 3 [viska-tf28]",
   "language": "python",
   "name": "python3-viska-tf28"
  },
  "language_info": {
   "codemirror_mode": {
    "name": "ipython",
    "version": 3
   },
   "file_extension": ".py",
   "mimetype": "text/x-python",
   "name": "python",
   "nbconvert_exporter": "python",
   "pygments_lexer": "ipython3",
   "version": "3.9.7"
  }
 },
 "nbformat": 4,
 "nbformat_minor": 5
}
